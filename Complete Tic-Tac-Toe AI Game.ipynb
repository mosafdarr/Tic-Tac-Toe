{
 "cells": [
  {
   "cell_type": "markdown",
   "metadata": {},
   "source": [
    "# Tic-Tac-Toe AI Game Project"
   ]
  },
  {
   "cell_type": "code",
   "execution_count": 1,
   "metadata": {},
   "outputs": [],
   "source": [
    "# Tic-Tac-Toe\n",
    "\n",
    "import random \n",
    "\n",
    "def drawGameBoard(board):\n",
    "    # This function prints out the game board that it was passed.\n",
    "    \n",
    "    '''\"board\" is a list of 10 strings representing the board (ignore index 0).'''\n",
    "    print(f' {board[7]} | {board[8]} | {board[9]}')\n",
    "    print('---+---+---')\n",
    "    print(f' {board[4]} | {board[5]} | {board[6]}')\n",
    "    print('---+---+---')\n",
    "    print(f' {board[1]} | {board[2]} | {board[3]}')\n",
    "    \n",
    "def inputPlayerLetter():\n",
    "    # Lets the player enter which letter they want to be.\n",
    "    '''Returns a list with the player's letter as the first item and the computer's letter as the second.'''\n",
    "    letter = ''\n",
    "    while not (letter == 'X' or letter == 'O'):\n",
    "        print('Do you want to be X or O?')\n",
    "        letter = input().upper()\n",
    "        \n",
    "    # The first element in the list is the player's letter; the second is the computer's letter.\n",
    "    if letter == 'X':\n",
    "        return ['X', 'O']\n",
    "    else:\n",
    "        return ['O', 'X']\n",
    "    \n",
    "def whoGoesFirst():\n",
    "    # Randomly choose which player goes first.\n",
    "    if random.randint(0, 1) == 0:\n",
    "        return 'computer'\n",
    "    else:\n",
    "        return 'player'\n",
    "    \n",
    "def makeMove(board, letter, move):\n",
    "    board[move] = letter \n",
    "    \n",
    "def isWinner(bo, le):\n",
    "    # Given a board and a player's letter, this function returns True if that player has won. \n",
    "    # We use \"bo\" instead of \"board\" and \"le\" instead of \"letter\" so we don't have to type as much.\n",
    "    return ((bo[7] == le and bo[8] == le and bo[9] == le) or # Across the top\n",
    "            (bo[4] == le and bo[5] == le and bo[6] == le) or # Across the middle\n",
    "            (bo[1] == le and bo[2] == le and bo[3] == le) or # Across the bottom\n",
    "            (bo[7] == le and bo[4] == le and bo[1] == le) or # Down the left side\n",
    "            (bo[8] == le and bo[5] == le and bo[2] == le) or # Down the middle\n",
    "            (bo[9] == le and bo[6] == le and bo[3] == le) or # Down the right\n",
    "            (bo[7] == le and bo[5] == le and bo[3] == le) or # Diagonal\n",
    "            (bo[9] == le and bo[5] == le and bo[1] == le))   # Diagonal\n",
    "\n",
    "def isSpaceFree(board, move):\n",
    "    # Return True if the passed move is free on the passed board.\n",
    "    return board[move] == ' '\n",
    "\n",
    "def isGameBoardFull(board):\n",
    "    # Return True if every space on the game board has been taken. Otherwise, return False.\n",
    "    for i in range(1, 10):\n",
    "        if isSpaceFree(board, i):\n",
    "            return False  \n",
    "    return True \n",
    "\n",
    "def getPlayerMove(board):\n",
    "    # Let the player enter their move.\n",
    "    move = ' '\n",
    "    while move not in '1 2 3 4 5 6 7 8 9'.split() or not isSpaceFree(board, int(move)):\n",
    "        print('What is your next move - (1-9)') \n",
    "        move = input()  \n",
    "    return int(move)\n",
    "\n",
    "def getBoardCopy(board):\n",
    "    # Make a copy of the board list and return it.\n",
    "    boardCopy = []\n",
    "    for v in board:\n",
    "        boardCopy.append(v)\n",
    "    return boardCopy\n",
    "\n",
    "def chooseRandomMoveFromList(board, movesList):\n",
    "    # Returns a valid move from the passed list on the passed board.\n",
    "    # Returns None if there is no valid move.\n",
    "    possibleMoves = []\n",
    "    for i in movesList:\n",
    "        if isSpaceFree(board, i):\n",
    "            possibleMoves.append(i)\n",
    "            \n",
    "    if len(possibleMoves) != 0:\n",
    "        return random.choice(possibleMoves)\n",
    "    else:\n",
    "        return None\n",
    "    \n",
    "def getComputerMove(board, computerLetter):\n",
    "    # Given a board and the computer's letter, determine where to move and return that move.\n",
    "    if computerLetter == 'X':\n",
    "        playerLetter = 'O'\n",
    "    else:\n",
    "        playerLetter = 'X'\n",
    "\n",
    "    # Here is the algorithm for our Tic-Tac-Toe AI:\n",
    "    # First, check if we can win in the next move.\n",
    "    for i in range(1, 10):\n",
    "        boardCopy = getBoardCopy(board)\n",
    "        if isSpaceFree(boardCopy, i):\n",
    "            makeMove(boardCopy, computerLetter, i)\n",
    "            if isWinner(boardCopy, computerLetter):\n",
    "                return i\n",
    "            \n",
    "    # Check if the player could win on their next move and block them.\n",
    "    for i in range(1, 10):\n",
    "        boardCopy = getBoardCopy(board)\n",
    "        if isSpaceFree(boardCopy, i):\n",
    "            makeMove(boardCopy, playerLetter, i)\n",
    "            if isWinner(boardCopy, playerLetter):\n",
    "                return i\n",
    "            \n",
    "    # Try to take one of the corners, if they are free.\n",
    "    move = chooseRandomMoveFromList(board, [1, 3, 7, 9])\n",
    "    if move != None:\n",
    "        return move \n",
    "    \n",
    "    # Try to take the center, if it is free.\n",
    "    if isSpaceFree(board, 5):\n",
    "        return 5\n",
    "    \n",
    "    # Move on one of the sides.\n",
    "    return chooseRandomMoveFromList(board, [2, 4, 6, 8])\n",
    "\n",
    "def playAgain():\n",
    "    print('Do you want to play again? (yes or no)')\n",
    "    return input().lower().startswith('y')"
   ]
  },
  {
   "cell_type": "code",
   "execution_count": 2,
   "metadata": {},
   "outputs": [
    {
     "name": "stdout",
     "output_type": "stream",
     "text": [
      "Welcome to Tic-Tac-Toe AI Game!\n",
      "Do you want to be X or O?\n"
     ]
    },
    {
     "name": "stdin",
     "output_type": "stream",
     "text": [
      " X\n"
     ]
    },
    {
     "name": "stdout",
     "output_type": "stream",
     "text": [
      "The player will go first.\n",
      "   |   |  \n",
      "---+---+---\n",
      "   |   |  \n",
      "---+---+---\n",
      "   |   |  \n",
      "What is your next move - (1-9)\n"
     ]
    },
    {
     "name": "stdin",
     "output_type": "stream",
     "text": [
      " 9\n"
     ]
    },
    {
     "name": "stdout",
     "output_type": "stream",
     "text": [
      " O |   | X\n",
      "---+---+---\n",
      "   |   |  \n",
      "---+---+---\n",
      "   |   |  \n",
      "What is your next move - (1-9)\n"
     ]
    },
    {
     "name": "stdin",
     "output_type": "stream",
     "text": [
      " 3\n"
     ]
    },
    {
     "name": "stdout",
     "output_type": "stream",
     "text": [
      " O |   | X\n",
      "---+---+---\n",
      "   |   | O\n",
      "---+---+---\n",
      "   |   | X\n",
      "What is your next move - (1-9)\n"
     ]
    },
    {
     "name": "stdin",
     "output_type": "stream",
     "text": [
      " 1\n"
     ]
    },
    {
     "name": "stdout",
     "output_type": "stream",
     "text": [
      " O |   | X\n",
      "---+---+---\n",
      "   |   | O\n",
      "---+---+---\n",
      " X | O | X\n",
      "What is your next move - (1-9)\n"
     ]
    },
    {
     "name": "stdin",
     "output_type": "stream",
     "text": [
      " 5\n"
     ]
    },
    {
     "name": "stdout",
     "output_type": "stream",
     "text": [
      " O |   | X\n",
      "---+---+---\n",
      "   | X | O\n",
      "---+---+---\n",
      " X | O | X\n",
      "You have won the game!\n",
      "Do you want to play again? (yes or no)\n"
     ]
    },
    {
     "name": "stdin",
     "output_type": "stream",
     "text": [
      " No ...\n"
     ]
    }
   ],
   "source": [
    "print('Welcome to Tic-Tac-Toe AI Game!')\n",
    "\n",
    "while True:\n",
    "    # Reset the game board.\n",
    "    theGameBoard = [' '] * 10\n",
    "    playerLetter, computerLetter = inputPlayerLetter()\n",
    "    turn = whoGoesFirst()\n",
    "    print(f'The {turn} will go first.')\n",
    "    gameIsPlaying = True  \n",
    "    \n",
    "    while gameIsPlaying:\n",
    "        if turn == 'player':\n",
    "            # Player's turn \n",
    "            drawGameBoard(theGameBoard)\n",
    "            move = getPlayerMove(theGameBoard)          \n",
    "            makeMove(theGameBoard, playerLetter, move)\n",
    "\n",
    "            if isWinner(theGameBoard, playerLetter):\n",
    "                drawGameBoard(theGameBoard)\n",
    "                print('You have won the game!')\n",
    "                gameIsPlaying = False\n",
    "            else:\n",
    "                if isGameBoardFull(theGameBoard):\n",
    "                    drawGameBoard(theGameBoard)\n",
    "                    print('The game is a tie!')\n",
    "                    break \n",
    "                else:\n",
    "                    turn = 'computer'\n",
    "        else:\n",
    "            # Computer's turn \n",
    "            move = getComputerMove(theGameBoard, computerLetter)          \n",
    "            makeMove(theGameBoard, computerLetter, move)\n",
    "\n",
    "            if isWinner(theGameBoard, computerLetter):\n",
    "                drawGameBoard(theGameBoard)\n",
    "                print('The computer has beaten you! You lose.')\n",
    "                gameIsPlaying = False\n",
    "            else:\n",
    "                if isGameBoardFull(theGameBoard):\n",
    "                    drawGameBoard(theGameBoard)\n",
    "                    print('The game is a tie!')\n",
    "                    break \n",
    "                else:\n",
    "                    turn = 'player'\n",
    "                    \n",
    "    if(not playAgain()):\n",
    "        break "
   ]
  },
  {
   "cell_type": "code",
   "execution_count": null,
   "metadata": {},
   "outputs": [],
   "source": []
  },
  {
   "cell_type": "markdown",
   "metadata": {},
   "source": [
    "@mrizwanse"
   ]
  },
  {
   "cell_type": "markdown",
   "metadata": {},
   "source": [
    "## Happy Learning 😊"
   ]
  }
 ],
 "metadata": {
  "kernelspec": {
   "display_name": "Python 3 (ipykernel)",
   "language": "python",
   "name": "python3"
  },
  "language_info": {
   "codemirror_mode": {
    "name": "ipython",
    "version": 3
   },
   "file_extension": ".py",
   "mimetype": "text/x-python",
   "name": "python",
   "nbconvert_exporter": "python",
   "pygments_lexer": "ipython3",
   "version": "3.9.7"
  }
 },
 "nbformat": 4,
 "nbformat_minor": 4
}
